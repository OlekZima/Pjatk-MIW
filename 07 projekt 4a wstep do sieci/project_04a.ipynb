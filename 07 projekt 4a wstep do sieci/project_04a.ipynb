{
 "cells": [
  {
   "cell_type": "code",
   "execution_count": 2,
   "metadata": {},
   "outputs": [],
   "source": [
    "import numpy as np\n",
    "import matplotlib.pyplot as plt\n",
    "from datetime import datetime\n",
    "from sklearn.metrics import mean_squared_error, r2_score\n",
    "from sklearn.preprocessing import MinMaxScaler\n",
    "from sklearn.model_selection import train_test_split"
   ]
  },
  {
   "cell_type": "code",
   "execution_count": 3,
   "metadata": {},
   "outputs": [],
   "source": [
    "random_state = 42\n",
    "sq = np.random.SeedSequence(random_state)"
   ]
  },
  {
   "cell_type": "code",
   "execution_count": 4,
   "metadata": {},
   "outputs": [],
   "source": [
    "class NeuralNetwork:\n",
    "    def __init__(self, input_size, hidden_size, output_size, random_state: int = 42):\n",
    "        self.input_size = input_size\n",
    "        self.hidden_size = hidden_size\n",
    "        self.output_size = output_size\n",
    "\n",
    "        self.sq = np.random.SeedSequence(random_state)\n",
    "        self.rg = np.random.default_rng(np.random.MT19937(self.sq))"
   ]
  },
  {
   "cell_type": "code",
   "execution_count": 5,
   "metadata": {},
   "outputs": [
    {
     "data": {
      "text/plain": [
       "array([[-2.000000e+00,  4.051976e+00],\n",
       "       [-1.900000e+00,  3.426599e+00],\n",
       "       [-1.800000e+00,  3.403733e+00],\n",
       "       [-1.700000e+00,  3.065183e+00],\n",
       "       [-1.600000e+00,  2.551354e+00],\n",
       "       [-1.500000e+00,  2.270867e+00],\n",
       "       [-1.400000e+00,  2.008356e+00],\n",
       "       [-1.300000e+00,  1.835507e+00],\n",
       "       [-1.200000e+00,  1.327425e+00],\n",
       "       [-1.100000e+00,  1.127331e+00],\n",
       "       [-1.000000e+00,  8.850988e-01],\n",
       "       [-9.000000e-01,  9.486903e-01],\n",
       "       [-8.000000e-01,  7.738474e-01],\n",
       "       [-7.000000e-01,  3.261774e-01],\n",
       "       [-6.000000e-01,  2.803469e-01],\n",
       "       [-5.000000e-01,  3.881770e-01],\n",
       "       [-4.000000e-01,  1.626725e-01],\n",
       "       [-3.000000e-01,  1.727981e-01],\n",
       "       [-2.000000e-01,  9.038150e-02],\n",
       "       [-1.000000e-01, -9.300252e-02],\n",
       "       [-6.383782e-16,  1.705861e-02],\n",
       "       [ 1.000000e-01,  2.165437e-02],\n",
       "       [ 2.000000e-01,  1.308718e-01],\n",
       "       [ 3.000000e-01,  2.489937e-01],\n",
       "       [ 4.000000e-01,  3.368687e-01],\n",
       "       [ 5.000000e-01,  3.758846e-01],\n",
       "       [ 6.000000e-01,  3.604993e-01],\n",
       "       [ 7.000000e-01,  5.808921e-01],\n",
       "       [ 8.000000e-01,  4.526863e-01],\n",
       "       [ 9.000000e-01,  9.413238e-01],\n",
       "       [ 1.000000e+00,  9.496301e-01],\n",
       "       [ 1.100000e+00,  1.278366e+00],\n",
       "       [ 1.200000e+00,  1.401595e+00],\n",
       "       [ 1.300000e+00,  1.725725e+00],\n",
       "       [ 1.400000e+00,  2.110108e+00],\n",
       "       [ 1.500000e+00,  2.280629e+00],\n",
       "       [ 1.600000e+00,  2.604458e+00],\n",
       "       [ 1.700000e+00,  2.878133e+00],\n",
       "       [ 1.800000e+00,  3.174786e+00],\n",
       "       [ 1.900000e+00,  3.482901e+00],\n",
       "       [ 2.000000e+00,  4.067652e+00]], dtype=float32)"
      ]
     },
     "execution_count": 5,
     "metadata": {},
     "output_type": "execute_result"
    }
   ],
   "source": [
    "test_file_path = \"Dane/dane1.txt\"\n",
    "test_file_data = np.loadtxt(test_file_path, dtype=np.float32 ,delimiter=\" \")\n",
    "test_file_data"
   ]
  },
  {
   "cell_type": "code",
   "execution_count": 6,
   "metadata": {},
   "outputs": [
    {
     "name": "stdout",
     "output_type": "stream",
     "text": [
      "[-2.000000e+00 -1.900000e+00 -1.800000e+00 -1.700000e+00 -1.600000e+00\n",
      " -1.500000e+00 -1.400000e+00 -1.300000e+00 -1.200000e+00 -1.100000e+00\n",
      " -1.000000e+00 -9.000000e-01 -8.000000e-01 -7.000000e-01 -6.000000e-01\n",
      " -5.000000e-01 -4.000000e-01 -3.000000e-01 -2.000000e-01 -1.000000e-01\n",
      " -6.383782e-16  1.000000e-01  2.000000e-01  3.000000e-01  4.000000e-01\n",
      "  5.000000e-01  6.000000e-01  7.000000e-01  8.000000e-01  9.000000e-01\n",
      "  1.000000e+00  1.100000e+00  1.200000e+00  1.300000e+00  1.400000e+00\n",
      "  1.500000e+00  1.600000e+00  1.700000e+00  1.800000e+00  1.900000e+00\n",
      "  2.000000e+00]\n",
      "(41,)\n",
      "================================================================================\n",
      "[ 4.051976    3.426599    3.403733    3.065183    2.551354    2.270867\n",
      "  2.008356    1.835507    1.327425    1.127331    0.8850988   0.9486903\n",
      "  0.7738474   0.3261774   0.2803469   0.388177    0.1626725   0.1727981\n",
      "  0.0903815  -0.09300252  0.01705861  0.02165437  0.1308718   0.2489937\n",
      "  0.3368687   0.3758846   0.3604993   0.5808921   0.4526863   0.9413238\n",
      "  0.9496301   1.278366    1.401595    1.725725    2.110108    2.280629\n",
      "  2.604458    2.878133    3.174786    3.482901    4.067652  ]\n",
      "(41,)\n"
     ]
    }
   ],
   "source": [
    "x_data, y_data = test_file_data[:,0], test_file_data[:,1]\n",
    "print(x_data)\n",
    "print(x_data.shape)\n",
    "print(\"=\" * 80)\n",
    "print(y_data)\n",
    "print(y_data.shape)"
   ]
  },
  {
   "cell_type": "code",
   "execution_count": null,
   "metadata": {},
   "outputs": [],
   "source": []
  }
 ],
 "metadata": {
  "kernelspec": {
   "display_name": "base",
   "language": "python",
   "name": "python3"
  },
  "language_info": {
   "codemirror_mode": {
    "name": "ipython",
    "version": 3
   },
   "file_extension": ".py",
   "mimetype": "text/x-python",
   "name": "python",
   "nbconvert_exporter": "python",
   "pygments_lexer": "ipython3",
   "version": "3.11.7"
  }
 },
 "nbformat": 4,
 "nbformat_minor": 2
}
