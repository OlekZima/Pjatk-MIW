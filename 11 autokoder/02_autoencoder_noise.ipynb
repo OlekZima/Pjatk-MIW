{
  "nbformat": 4,
  "nbformat_minor": 0,
  "metadata": {
    "colab": {
      "provenance": [],
      "gpuType": "T4"
    },
    "kernelspec": {
      "name": "python3",
      "display_name": "Python 3"
    },
    "language_info": {
      "name": "python"
    },
    "accelerator": "GPU"
  },
  "cells": [
    {
      "cell_type": "markdown",
      "source": [
        "Inspirations:\n",
        "\n",
        "https://blog.keras.io/building-autoencoders-in-keras.html\n",
        "https://keras.io/examples/vision/autoencoder/"
      ],
      "metadata": {
        "id": "NZ2XXvtLOHjt"
      }
    },
    {
      "cell_type": "markdown",
      "source": [
        "\n",
        "\n",
        "---\n",
        "\n"
      ],
      "metadata": {
        "id": "iFsvbvmHOhM3"
      }
    },
    {
      "cell_type": "markdown",
      "source": [
        "We're using MNIST digits, and we're discarding the labels (since we're only interested in encoding/decoding the input images).\n",
        "\n"
      ],
      "metadata": {
        "id": "bwLp4xs6ObGH"
      }
    },
    {
      "cell_type": "code",
      "source": [
        "from keras.datasets import mnist\n",
        "import numpy as np\n",
        "\n",
        "(x_train, _), (x_test, y_test) = mnist.load_data()\n",
        "\n",
        "x_train = x_train.astype('float32') / 255.\n",
        "x_test = x_test.astype('float32') / 255.\n",
        "x_train = np.reshape(x_train, (len(x_train), 28, 28, 1))\n",
        "x_test = np.reshape(x_test, (len(x_test), 28, 28, 1))\n",
        "\n",
        "noise_factor = 0.5\n",
        "x_train_noisy = x_train + noise_factor * np.random.normal(loc=0.0, scale=1.0, size=x_train.shape)\n",
        "x_test_noisy = x_test + noise_factor * np.random.normal(loc=0.0, scale=1.0, size=x_test.shape)\n",
        "\n",
        "x_train_noisy = np.clip(x_train_noisy, 0., 1.)\n",
        "x_test_noisy = np.clip(x_test_noisy, 0., 1.)"
      ],
      "metadata": {
        "id": "nGn0PTY2OcNv"
      },
      "execution_count": null,
      "outputs": []
    },
    {
      "cell_type": "markdown",
      "source": [
        "\n",
        "\n",
        "---\n",
        "\n"
      ],
      "metadata": {
        "id": "HH10yUzLOfTv"
      }
    },
    {
      "cell_type": "code",
      "execution_count": null,
      "metadata": {
        "id": "kc1MQU4fNoaG"
      },
      "outputs": [],
      "source": [
        "import keras\n",
        "from keras import layers\n",
        "\n",
        "input_img = keras.Input(shape=(28, 28, 1))"
      ]
    },
    {
      "cell_type": "code",
      "source": [
        "x = layers.Conv2D(16, (3, 3), activation='relu', padding='same')(input_img)\n",
        "x = layers.MaxPooling2D((2, 2), padding='same')(x)\n",
        "x = layers.Conv2D(8, (3, 3), activation='relu', padding='same')(x)\n",
        "x = layers.MaxPooling2D((2, 2), padding='same')(x)\n",
        "x = layers.Conv2D(8, (3, 3), activation='relu', padding='same')(x)\n",
        "encoded = layers.MaxPooling2D((2, 2), padding='same')(x)\n",
        "\n",
        "# at this point the representation is (4, 4, 8) i.e. 128-dimensional\n",
        "\n",
        "x = layers.Conv2D(8, (3, 3), activation='relu', padding='same')(encoded)\n",
        "x = layers.UpSampling2D((2, 2))(x)\n",
        "x = layers.Conv2D(8, (3, 3), activation='relu', padding='same')(x)\n",
        "x = layers.UpSampling2D((2, 2))(x)\n",
        "x = layers.Conv2D(16, (3, 3), activation='relu')(x)\n",
        "x = layers.UpSampling2D((2, 2))(x)\n",
        "decoded = layers.Conv2D(1, (3, 3), activation='sigmoid', padding='same')(x)"
      ],
      "metadata": {
        "id": "0gnDtaKHjtKe"
      },
      "execution_count": null,
      "outputs": []
    },
    {
      "cell_type": "code",
      "source": [
        "autoencoder = keras.Model(input_img, decoded)\n",
        "encoder = keras.Model(input_img, encoded)"
      ],
      "metadata": {
        "id": "R1TKsa_rN_4U"
      },
      "execution_count": null,
      "outputs": []
    },
    {
      "cell_type": "markdown",
      "source": [
        "As well as the decoder model:"
      ],
      "metadata": {
        "id": "PX5V1br5OGhL"
      }
    },
    {
      "cell_type": "code",
      "source": [
        "autoencoder.compile(optimizer='adam', loss='binary_crossentropy')"
      ],
      "metadata": {
        "id": "N-oNvp7YOXV7"
      },
      "execution_count": null,
      "outputs": []
    },
    {
      "cell_type": "code",
      "source": [
        "autoencoder.fit(x_train_noisy, x_train,\n",
        "                epochs=50,\n",
        "                batch_size=256,\n",
        "                shuffle=True,\n",
        "                validation_data=(x_test_noisy , x_test))"
      ],
      "metadata": {
        "id": "9BIWJGAnOrup"
      },
      "execution_count": null,
      "outputs": []
    },
    {
      "cell_type": "markdown",
      "source": [
        " We can visualize the reconstructed inputs and the encoded representations."
      ],
      "metadata": {
        "id": "DA8quEf8Ou52"
      }
    },
    {
      "cell_type": "code",
      "source": [
        "# Encode and decode some digits\n",
        "# Note that we take them from the *test* set\n",
        "encoded_imgs = encoder.predict(x_test_noisy)\n",
        "decoded_imgs = autoencoder.predict(x_test_noisy)"
      ],
      "metadata": {
        "id": "FWQyoo_rOZDn"
      },
      "execution_count": null,
      "outputs": []
    },
    {
      "cell_type": "code",
      "source": [
        "# Use Matplotlib (don't ask)\n",
        "import matplotlib.pyplot as plt\n",
        "\n",
        "n = 10  # How many digits we will display\n",
        "plt.figure(figsize=(20, 4))\n",
        "for i in range(n):\n",
        "    # Display original\n",
        "    ax = plt.subplot(2, n, i + 1)\n",
        "    plt.imshow(x_test_noisy[i].reshape(28, 28))\n",
        "    plt.gray()\n",
        "    ax.get_xaxis().set_visible(False)\n",
        "    ax.get_yaxis().set_visible(False)\n",
        "\n",
        "    # Display reconstruction\n",
        "    ax = plt.subplot(2, n, i + 1 + n)\n",
        "    plt.imshow(decoded_imgs[i].reshape(28, 28))\n",
        "    plt.gray()\n",
        "    ax.get_xaxis().set_visible(False)\n",
        "    ax.get_yaxis().set_visible(False)\n",
        "plt.show()"
      ],
      "metadata": {
        "id": "WUwscX_HOyMA"
      },
      "execution_count": null,
      "outputs": []
    },
    {
      "cell_type": "markdown",
      "source": [
        "\n",
        "\n",
        "---\n",
        "\n"
      ],
      "metadata": {
        "id": "TuStFojNO14a"
      }
    },
    {
      "cell_type": "code",
      "source": [
        "from sklearn.decomposition import PCA\n",
        "# Użyj PCA do wizualizacji klastrów\n",
        "pca = PCA(n_components=2)  # Redukcja wymiarów za pomocą PCA do 2 komponentów\n",
        "encoded_imgs_pca=encoded_imgs.reshape((-1, 4*4*8))\n",
        "encoded_imgs_2d = pca.fit_transform(encoded_imgs_pca)  # Przekształcenie zakodowanych wektorów do 2D"
      ],
      "metadata": {
        "id": "nK9vfzSMamys"
      },
      "execution_count": null,
      "outputs": []
    },
    {
      "cell_type": "code",
      "source": [
        "from sklearn.cluster import KMeans\n",
        "# Użyj KMeans do analizy klastrów\n",
        "kmeans = KMeans(n_clusters=10, random_state=0)  # Algorytm KMeans z 10 klastrami\n",
        "clusters = kmeans.fit_predict(encoded_imgs_pca)     # Dopasowanie modelu KMeans i przypisanie klastrów"
      ],
      "metadata": {
        "id": "y0KP7a_gan4u"
      },
      "execution_count": null,
      "outputs": []
    },
    {
      "cell_type": "code",
      "source": [
        "# Wizualizacja klastrów\n",
        "plt.figure(figsize=(10, 8))  # Ustawienie rozmiaru wykresu\n",
        "plt.scatter(encoded_imgs_2d[:, 0], encoded_imgs_2d[:, 1], c=clusters, cmap='tab10')  # Wykres rozproszenia z kolorami odpowiadającymi klastrom\n",
        "plt.colorbar()  # Dodanie paska kolorów\n",
        "plt.show()  # Wyświetlenie wykresu"
      ],
      "metadata": {
        "id": "ebHzLbjeaoee"
      },
      "execution_count": null,
      "outputs": []
    },
    {
      "cell_type": "code",
      "source": [
        "# Mapowanie klastrów na oryginalne etykiety\n",
        "def map_clusters_to_labels(clusters, labels):\n",
        "    label_map = {}  # Słownik do mapowania klastrów na etykiety\n",
        "    for cluster in np.unique(clusters):  # Iteracja po unikalnych klastrach\n",
        "        indices = np.where(clusters == cluster)  # Znalezienie indeksów próbek należących do danego klastra\n",
        "        true_labels = labels[indices]  # Pobranie prawdziwych etykiet dla tych próbek\n",
        "        most_common_label = np.bincount(true_labels).argmax()  # Znalezienie najczęściej występującej etykiety\n",
        "        label_map[cluster] = most_common_label  # Przypisanie najczęstszej etykiety do klastra\n",
        "    print(f\"Przypisanie najczęstszej etykiety do klastra {label_map}\")\n",
        "    return np.vectorize(label_map.get)(clusters)  # Mapowanie klastrów na etykiety"
      ],
      "metadata": {
        "id": "jyim4gTfapBs"
      },
      "execution_count": null,
      "outputs": []
    },
    {
      "cell_type": "code",
      "source": [
        "from sklearn.metrics import accuracy_score\n",
        "predicted_labels = map_clusters_to_labels(clusters, y_test)  # Mapowanie klastrów na przewidywane etykiety\n",
        "accuracy = accuracy_score(y_test, predicted_labels)  # Obliczenie dokładności klastrowania\n",
        "print(f\"accuracy={accuracy}\")"
      ],
      "metadata": {
        "id": "WqgPdpieatHF"
      },
      "execution_count": null,
      "outputs": []
    },
    {
      "cell_type": "code",
      "source": [
        "# Wyświetlenie macierzy konfuzji\n",
        "from sklearn.metrics import confusion_matrix\n",
        "cm = confusion_matrix(y_test, predicted_labels)  # Macierz konfuzji dla prawdziwych i przewidywanych etykiet\n",
        "plt.figure(figsize=(10, 8))  # Ustawienie rozmiaru wykresu\n",
        "import seaborn as sns\n",
        "sns.heatmap(cm, annot=True, fmt=\"d\", cmap='Blues')  # Wykres macierzy konfuzji\n",
        "plt.xlabel('Predicted')  # Etykieta osi x\n",
        "plt.ylabel('True')  # Etykieta osi y\n",
        "plt.show()  # Wyświetlenie wykresu"
      ],
      "metadata": {
        "id": "MHVzWwCqatcs"
      },
      "execution_count": null,
      "outputs": []
    },
    {
      "cell_type": "code",
      "source": [],
      "metadata": {
        "id": "P1nvV81-p6fr"
      },
      "execution_count": null,
      "outputs": []
    }
  ]
}