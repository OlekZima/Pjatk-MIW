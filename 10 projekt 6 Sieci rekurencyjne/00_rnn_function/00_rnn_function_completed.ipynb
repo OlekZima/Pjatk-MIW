{
  "nbformat": 4,
  "nbformat_minor": 0,
  "metadata": {
    "colab": {
      "provenance": []
    },
    "kernelspec": {
      "name": "python3",
      "display_name": "Python 3"
    },
    "language_info": {
      "name": "python"
    }
  },
  "cells": [
    {
      "cell_type": "code",
      "execution_count": null,
      "metadata": {
        "id": "RWJCfmpgpMyR"
      },
      "outputs": [],
      "source": [
        "import numpy as np\n",
        "import pandas as pd\n",
        "import matplotlib.pyplot as plt\n",
        "from keras.models import Sequential\n",
        "from keras.layers import SimpleRNN, Dense, Dropout"
      ]
    },
    {
      "cell_type": "code",
      "source": [
        "model_name = \"rnnv6fun\""
      ],
      "metadata": {
        "id": "LPA47-ynrJzw"
      },
      "execution_count": null,
      "outputs": []
    },
    {
      "cell_type": "code",
      "source": [
        "# Generowanie przykładowych danych\n",
        "# Wygenerowanie wartości X\n",
        "X = np.arange(0, 151).reshape(-1, 1)\n",
        "# Wygenerowanie wartości y\n",
        "# y = X\n",
        "# y = X + np.random.randn(len(X),1)\n",
        "y = np.sin(X/40*np.pi) + np.cos((X - 10)/20*np.pi)\n",
        "# Przeskalowanie wartości y do zakresu od 0 do 1\n",
        "min_y = np.min(y)\n",
        "max_y = np.max(y)\n",
        "y = (y - min_y) / (max_y - min_y)\n",
        "plt.plot(y, color='black', label='Data', marker='.')\n",
        "plt.savefig(f'data_{model_name}.png')\n",
        "plt.show()"
      ],
      "metadata": {
        "id": "t-NntA2jpZo3"
      },
      "execution_count": null,
      "outputs": []
    },
    {
      "cell_type": "code",
      "source": [
        "# Funkcja do przygotowania sekwencji danych\n",
        "def create_sequences(y_data, seq_length):\n",
        "    X_sequences = []\n",
        "    y_labels = []\n",
        "    for i in range(len(y_data) - seq_length):\n",
        "        X_sequences.append(y_data[i:i+seq_length])\n",
        "        y_labels.append(y_data[i+seq_length])\n",
        "    return np.array(X_sequences), np.array(y_labels)"
      ],
      "metadata": {
        "id": "on1zjP-1pYq5"
      },
      "execution_count": null,
      "outputs": []
    },
    {
      "cell_type": "code",
      "source": [
        "# Długość sekwencji\n",
        "seq_length = 10"
      ],
      "metadata": {
        "id": "A0CAkizRpYMv"
      },
      "execution_count": null,
      "outputs": []
    },
    {
      "cell_type": "code",
      "source": [
        "# Tworzenie sekwencji\n",
        "X_seq, y_seq = create_sequences(y, seq_length)\n",
        "print(f'Kształt X_seq: {X_seq.shape}, Kształt y_seq: {y_seq.shape}')"
      ],
      "metadata": {
        "id": "NAdC93GbpYAe"
      },
      "execution_count": null,
      "outputs": []
    },
    {
      "cell_type": "code",
      "source": [
        "# Podział danych na zbiór treningowy i testowy\n",
        "split_index = round(0.8 * len(X_seq))\n",
        "X_train, X_test = X_seq[:split_index], X_seq[split_index:]\n",
        "y_train, y_test = y_seq[:split_index], y_seq[split_index:]\n",
        "print(f'Kształt X_train: {X_train.shape}, Kształt y_train: {y_train.shape}')\n",
        "print(f'Kształt X_test: {X_test.shape}, Kształt y_test: {y_test.shape}')"
      ],
      "metadata": {
        "id": "WK456lHUpX1Y"
      },
      "execution_count": null,
      "outputs": []
    },
    {
      "cell_type": "code",
      "source": [
        "# Definicja modelu\n",
        "Dropout_rate=0\n",
        "model = Sequential()\n",
        "model.add(SimpleRNN(32, input_shape=(None, 1), activation='tanh',return_sequences = False))  # Warstwa SimpleRNN z 10 neuronami\n",
        "model.add(Dense(1))  # Warstwa wyjściowa z jednym neuronem"
      ],
      "metadata": {
        "id": "MHx3dY66pXfA"
      },
      "execution_count": null,
      "outputs": []
    },
    {
      "cell_type": "code",
      "source": [
        "# Kompilacja modelu\n",
        "model.compile(optimizer='adam', loss='mean_squared_error')"
      ],
      "metadata": {
        "id": "uyIBxzJOpXP4"
      },
      "execution_count": null,
      "outputs": []
    },
    {
      "cell_type": "code",
      "source": [
        "# Trenowanie modelu\n",
        "batch_size = round(len(X_train)/5)\n",
        "print('batch_size =',batch_size)\n",
        "history = model.fit(X_train, y_train, epochs=200, batch_size=batch_size, verbose=1)"
      ],
      "metadata": {
        "id": "KYSMPeyUpXBP"
      },
      "execution_count": null,
      "outputs": []
    },
    {
      "cell_type": "code",
      "source": [
        "# Plotting Loss vs Epochs\n",
        "plt.figure(figsize =(10,7))\n",
        "plt.plot(history.history[\"loss\"])\n",
        "plt.xlabel(\"Epochs\")\n",
        "plt.ylabel(\"Losses\")\n",
        "plt.title(\"Simple RNN model, Loss vs Epoch\")\n",
        "plt.ylim(0, 0.1)  # Ustawienie zakresu osi y od 0 do 0.1\n",
        "mid_x = len(history.history[\"loss\"]) / 2  # Środek osi x (liczba epok podzielona przez 2)\n",
        "mid_y = 0.05  # Środek osi y (0.05 to połowa zakresu od 0 do 0.1)\n",
        "plt.text(mid_x, mid_y, f' Sequence length = {seq_length} \\n Batch size={batch_size} \\n Dropout rate={Dropout_rate} \\n Input data - function \\n Final MSE = {round(history.history[\"loss\"][-1],5)}', fontsize=16, ha='left')# Dodanie tekstu na środku obrazka\n",
        "plt.savefig(f'history_{model_name}.png')\n",
        "plt.show()"
      ],
      "metadata": {
        "id": "DdeWrSM37ZbU"
      },
      "execution_count": null,
      "outputs": []
    },
    {
      "cell_type": "code",
      "source": [
        "# Przewidywania na danych treningowych\n",
        "predictions_train = model.predict(X_train)\n",
        "# wykres\n",
        "plt.plot(predictions_train.flatten(), color='red', label='Predykcje')\n",
        "plt.plot(y_train.flatten(), color='blue', label='Dane treningowe',alpha=0.5)\n",
        "plt.legend()\n",
        "plt.savefig(f'pred_train_{model_name}.png')\n",
        "plt.show()"
      ],
      "metadata": {
        "id": "Vwf0A1qX9Iyf"
      },
      "execution_count": null,
      "outputs": []
    },
    {
      "cell_type": "code",
      "source": [
        "# Przewidywania na danych testowch\n",
        "predictions_test = model.predict(X_test)\n",
        "# wykres\n",
        "plt.plot(predictions_test.flatten(), color='red', label='Predykcje',alpha=1)\n",
        "plt.plot(y_test.flatten(), color='black', label='Dane testowe',alpha=0.5)\n",
        "plt.legend()\n",
        "plt.savefig(f'pred_test_{model_name}.png')\n",
        "plt.show()"
      ],
      "metadata": {
        "id": "6LsjOMesBK2H"
      },
      "execution_count": null,
      "outputs": []
    },
    {
      "cell_type": "code",
      "source": [
        "# export modelu RNN\n",
        "model.save(f\"keras_{model_name}.keras\")"
      ],
      "metadata": {
        "id": "lqVXYAnRaFeJ"
      },
      "execution_count": null,
      "outputs": []
    },
    {
      "cell_type": "code",
      "source": [
        "# Wizualizacja modelu\n",
        "from keras.utils import plot_model\n",
        "plot_model(model, to_file=f'architecture_{model_name}.png', show_shapes=True, show_layer_names=True)"
      ],
      "metadata": {
        "id": "ZY66o1traInJ"
      },
      "execution_count": null,
      "outputs": []
    },
    {
      "cell_type": "code",
      "source": [],
      "metadata": {
        "id": "8uGdnby0hlAM"
      },
      "execution_count": null,
      "outputs": []
    }
  ]
}