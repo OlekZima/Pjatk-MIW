{
  "nbformat": 4,
  "nbformat_minor": 0,
  "metadata": {
    "colab": {
      "provenance": []
    },
    "kernelspec": {
      "name": "python3",
      "display_name": "Python 3"
    },
    "language_info": {
      "name": "python"
    }
  },
  "cells": [
    {
      "cell_type": "code",
      "execution_count": null,
      "metadata": {
        "id": "RWJCfmpgpMyR"
      },
      "outputs": [],
      "source": [
        "import numpy as np\n",
        "import pandas as pd\n",
        "import matplotlib.pyplot as plt\n",
        "from keras.models import Sequential\n",
        "from keras.layers import LSTM, Dense, Dropout"
      ]
    },
    {
      "cell_type": "code",
      "source": [
        "model_name = \"lstmv1EURtoPLN\""
      ],
      "metadata": {
        "id": "LPA47-ynrJzw"
      },
      "execution_count": null,
      "outputs": []
    },
    {
      "cell_type": "code",
      "source": [
        "# Wczytanie danych z pliku CSV\n",
        "# Upewnij się, że ścieżka do pliku jest poprawna\n",
        "input_data = 'eurpln_d.csv'\n",
        "df = pd.read_csv(input_data)\n",
        "# Tworzenie X (liczba porządkowa) i y (wartość otwarcia)\n",
        "X = np.arange(len(df)).reshape(-1, 1)\n",
        "y = df['Otwarcie'].values\n",
        "# Wyświetlenie danych\n",
        "plt.plot(X, y, color='black', label='Data')\n",
        "plt.xlabel('dni od 2014-05-19 do 2024-05-18')\n",
        "plt.ylabel('Wartość otwarcia w dniu EURO w PLN')\n",
        "plt.title('10 lat - EURO w PLN')\n",
        "plt.savefig(f'data_{model_name}.png')\n",
        "plt.show()\n",
        "# Przeskalowanie wartości y do zakresu od 0 do 1\n",
        "min_y = np.min(y)\n",
        "max_y = np.max(y)\n",
        "y = (y - min_y) / (max_y - min_y)"
      ],
      "metadata": {
        "id": "t-NntA2jpZo3"
      },
      "execution_count": null,
      "outputs": []
    },
    {
      "cell_type": "code",
      "source": [
        "# Funkcja do przygotowania sekwencji danych\n",
        "def create_sequences(y_data, seq_length):\n",
        "    X_sequences = []\n",
        "    y_labels = []\n",
        "    for i in range(len(y_data) - seq_length):\n",
        "        X_sequences.append(y_data[i:i+seq_length])\n",
        "        y_labels.append(y_data[i+seq_length])\n",
        "    return np.array(X_sequences), np.array(y_labels)"
      ],
      "metadata": {
        "id": "on1zjP-1pYq5"
      },
      "execution_count": null,
      "outputs": []
    },
    {
      "cell_type": "code",
      "source": [
        "# Długość sekwencji\n",
        "seq_length = 50"
      ],
      "metadata": {
        "id": "A0CAkizRpYMv"
      },
      "execution_count": null,
      "outputs": []
    },
    {
      "cell_type": "code",
      "source": [
        "# Tworzenie sekwencji\n",
        "X_seq, y_seq = create_sequences(y, seq_length)\n",
        "print(f'Kształt X_seq: {X_seq.shape}, Kształt y_seq: {y_seq.shape}')"
      ],
      "metadata": {
        "id": "NAdC93GbpYAe"
      },
      "execution_count": null,
      "outputs": []
    },
    {
      "cell_type": "code",
      "source": [
        "# Podział danych na zbiór treningowy i testowy\n",
        "split_index = round(0.8 * len(X_seq))\n",
        "X_train, X_test = X_seq[:split_index], X_seq[split_index:]\n",
        "y_train, y_test = y_seq[:split_index], y_seq[split_index:]\n",
        "print(f'Kształt X_train: {X_train.shape}, Kształt y_train: {y_train.shape}')\n",
        "print(f'Kształt X_test: {X_test.shape}, Kształt y_test: {y_test.shape}')"
      ],
      "metadata": {
        "id": "WK456lHUpX1Y"
      },
      "execution_count": null,
      "outputs": []
    },
    {
      "cell_type": "code",
      "source": [
        "# Definicja modelu\n",
        "Dropout_rate=0.2\n",
        "model = Sequential()\n",
        "'''do uzupełnienia'''\n",
        "model.add(Dense(1))  # Warstwa wyjściowa z jednym neuronem"
      ],
      "metadata": {
        "id": "MHx3dY66pXfA"
      },
      "execution_count": null,
      "outputs": []
    },
    {
      "cell_type": "code",
      "source": [
        "# Kompilacja modelu\n",
        "model.compile(optimizer='adam', loss='mean_squared_error')"
      ],
      "metadata": {
        "id": "uyIBxzJOpXP4"
      },
      "execution_count": null,
      "outputs": []
    },
    {
      "cell_type": "code",
      "source": [
        "# Trenowanie modelu\n",
        "batch_size = round(len(X_train)/10)\n",
        "print('batch_size =',batch_size)\n",
        "history = model.fit(X_train, y_train, epochs=100, batch_size=batch_size, verbose=1)"
      ],
      "metadata": {
        "id": "KYSMPeyUpXBP"
      },
      "execution_count": null,
      "outputs": []
    },
    {
      "cell_type": "code",
      "source": [
        "# Plotting Loss vs Epochs\n",
        "plt.figure(figsize =(10,7))\n",
        "plt.plot(history.history[\"loss\"])\n",
        "plt.xlabel(\"Epochs\")\n",
        "plt.ylabel(\"Losses\")\n",
        "plt.title(\"RNN model, Loss MSE vs Epoch\")\n",
        "plt.ylim(0, 0.1)  # Ustawienie zakresu osi y od 0 do 0.1\n",
        "mid_x = len(history.history[\"loss\"]) / 2  # Środek osi x (liczba epok podzielona przez 2)\n",
        "mid_y = 0.05  # Środek osi y (0.05 to połowa zakresu od 0 do 0.1)\n",
        "plt.text(mid_x, mid_y, f' Sequence length = {seq_length} \\n Batch size={batch_size} \\n Dropout rate={Dropout_rate} \\n Input data - {input_data} \\n Final MSE = {round(history.history[\"loss\"][-1],5)}', fontsize=16, ha='left')# Dodanie tekstu na środku obrazka\n",
        "plt.savefig(f'history_{model_name}.png')\n",
        "plt.show()"
      ],
      "metadata": {
        "id": "DdeWrSM37ZbU"
      },
      "execution_count": null,
      "outputs": []
    },
    {
      "cell_type": "code",
      "source": [
        "# Przewidywania na danych treningowych\n",
        "predictions_train = model.predict(X_train)\n",
        "# wykres\n",
        "plt.plot(predictions_train.flatten(), color='red', label='Predykcje')\n",
        "plt.plot(y_train.flatten(), color='blue', label='Dane treningowe',alpha=0.5)\n",
        "plt.legend()\n",
        "mid_x = len(predictions_train) / 2  # Środek osi x (liczba epok podzielona przez 2)\n",
        "mid_y = 1/10  # Środek osi y (0.05 to połowa zakresu od 0 do 0.1)\n",
        "#Residual Sum of Squares\n",
        "plt.text(mid_x, mid_y, f' RSS = {round(np.sum((predictions_train.flatten() - y_train.flatten()) ** 2),4)} \\n MSE = {round(np.mean((predictions_train.flatten() - y_train.flatten()) ** 2),6)} ', fontsize=16, ha='left')# Dodanie tekstu na środku obrazka\n",
        "plt.savefig(f'pred_train_{model_name}.png')\n",
        "plt.show()"
      ],
      "metadata": {
        "id": "Vwf0A1qX9Iyf"
      },
      "execution_count": null,
      "outputs": []
    },
    {
      "cell_type": "code",
      "source": [
        "# Przewidywania na danych testowch\n",
        "predictions_test = model.predict(X_test)\n",
        "# wykres\n",
        "plt.plot(predictions_test.flatten(), color='red', label='Predykcje',alpha=1)\n",
        "plt.plot(y_test.flatten(), color='black', label='Dane testowe',alpha=0.5)\n",
        "plt.legend()\n",
        "mid_x = len(predictions_test) / 8  # Środek osi x (liczba epok podzielona przez 2)\n",
        "mid_y = 10/35  # Środek osi y (0.05 to połowa zakresu od 0 do 0.1)\n",
        "#Residual Sum of Squares\n",
        "plt.text(mid_x, mid_y, f' RSS = {round(np.sum((predictions_test.flatten() - y_test.flatten()) ** 2),4)} \\n MSE = {round(np.mean((predictions_test.flatten() - y_test.flatten()) ** 2),6)} ', fontsize=16, ha='left')# Dodanie tekstu na środku obrazka\n",
        "plt.savefig(f'pred_test_{model_name}.png')\n",
        "plt.show()"
      ],
      "metadata": {
        "id": "6LsjOMesBK2H"
      },
      "execution_count": null,
      "outputs": []
    },
    {
      "cell_type": "code",
      "source": [],
      "metadata": {
        "id": "3A_Ngddubb8o"
      },
      "execution_count": null,
      "outputs": []
    },
    {
      "cell_type": "code",
      "source": [
        "# export modelu RNN\n",
        "model.save(f\"keras_{model_name}.keras\")"
      ],
      "metadata": {
        "id": "lqVXYAnRaFeJ"
      },
      "execution_count": null,
      "outputs": []
    },
    {
      "cell_type": "code",
      "source": [
        "# Wizualizacja modelu\n",
        "from keras.utils import plot_model\n",
        "plot_model(model, to_file=f'architecture_{model_name}.png', show_shapes=True, show_layer_names=True)"
      ],
      "metadata": {
        "id": "ZY66o1traInJ"
      },
      "execution_count": null,
      "outputs": []
    }
  ]
}