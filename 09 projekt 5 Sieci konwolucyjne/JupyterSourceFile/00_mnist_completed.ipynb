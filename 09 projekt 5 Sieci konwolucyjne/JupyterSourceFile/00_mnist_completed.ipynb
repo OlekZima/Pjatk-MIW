{
  "nbformat": 4,
  "nbformat_minor": 0,
  "metadata": {
    "colab": {
      "provenance": []
    },
    "kernelspec": {
      "name": "python3",
      "display_name": "Python 3"
    },
    "language_info": {
      "name": "python"
    }
  },
  "cells": [
    {
      "cell_type": "code",
      "execution_count": null,
      "metadata": {
        "id": "CfyiJnT7k5_t"
      },
      "outputs": [],
      "source": [
        "import numpy as np\n",
        "import keras\n",
        "import matplotlib.pyplot as plt\n",
        "from keras.models import Model\n",
        "from keras.layers import Input, Dense, Flatten, Conv2D, MaxPooling2D\n",
        "from keras.utils import plot_model\n",
        "from keras.datasets import mnist"
      ]
    },
    {
      "cell_type": "code",
      "source": [
        "# Załaduj dane\n",
        "(x_train,y_train), (x_test, y_test) = mnist.load_data()\n",
        "# podgląd\n",
        "print(\"etykieta \",y_train[0])\n",
        "plt.imshow(x_train[0], cmap='gray')"
      ],
      "metadata": {
        "id": "12CSMidFoYhS"
      },
      "execution_count": null,
      "outputs": []
    },
    {
      "cell_type": "code",
      "source": [
        "# Przetwórz dane\n",
        "# Dane typu float32, modele często lepiej radzą sobie z danymi liczbowymi w formie zmiennoprzecinkowej.\n",
        "# Normalizujemy dane do przedziału [0, 1]\n",
        "x_train = x_train.astype('float32') / 255\n",
        "x_test = x_test.astype('float32') / 255"
      ],
      "metadata": {
        "id": "V39d5NphogBH"
      },
      "execution_count": null,
      "outputs": []
    },
    {
      "cell_type": "code",
      "source": [
        "# Konwertuj etykiety na kategorie\n",
        "# kodowanie kategoryczne (one-hot encoding) na zbiorze etykiet treningowych\n",
        "# zamienia etykiety klas na postać binarną w formie wektorów zer i jedynek\n",
        "# 3 -> [0. 0. 0. 1. 0. 0. 0. 0. 0. 0.]\n",
        "num_classes = 10\n",
        "y_train = keras.utils.to_categorical(y_train, num_classes)\n",
        "y_test = keras.utils.to_categorical(y_test, num_classes)"
      ],
      "metadata": {
        "id": "ZXbCqZKtoZ0B"
      },
      "execution_count": null,
      "outputs": []
    },
    {
      "cell_type": "code",
      "source": [
        "# Zdefiniuj model za pomocą Functional API\n",
        "# Conv2D(liczba filtrów,...)\n",
        "input_shape = (28, 28, 1)\n",
        "inputs = Input(shape=input_shape)\n",
        "x = Conv2D(4, kernel_size=(3, 3), activation='relu')(inputs)#64\n",
        "x = MaxPooling2D(pool_size=(2, 2))(x)\n",
        "x = Flatten()(x)\n",
        "x = Dense(64, activation='relu')(x)#128\n",
        "outputs = Dense(num_classes, activation='softmax')(x)\n",
        "model = Model(inputs=inputs, outputs=outputs)"
      ],
      "metadata": {
        "id": "GGYGNpJUoexq"
      },
      "execution_count": null,
      "outputs": []
    },
    {
      "cell_type": "code",
      "source": [
        "# Skompiluj model\n",
        "# 'categorical_crossentropy' średnia z logarytmu przewidywanych prawdopodobieństw dla prawdziwej klasy\n",
        "# Optymalizator Adam (Adaptive Moment Estimation) wykorzystuje adaptacyjne momenty gradientu do efektywnego dostosowywania wag modelu podczas treningu\n",
        "model.compile(loss='categorical_crossentropy', optimizer='adam', metrics=['accuracy'])\n",
        "# Trenuj model\n",
        "# batch_size liczba próbek treningowych użytych do jednej aktualizacji wag modelu podczas jednej iteracji treningowej\n",
        "model.fit(x_train, y_train, batch_size=128, epochs=5, verbose='auto', validation_data=(x_test, y_test))"
      ],
      "metadata": {
        "id": "_oUJ1_Ndodmi"
      },
      "execution_count": null,
      "outputs": []
    },
    {
      "cell_type": "code",
      "source": [
        "# Ocena modelu\n",
        "loss, accuracy = model.evaluate(x_test, y_test, verbose='auto')\n",
        "print('Test loss:', loss)\n",
        "print('Test accuracy:', accuracy)"
      ],
      "metadata": {
        "id": "aJujx_6uocVJ"
      },
      "execution_count": null,
      "outputs": []
    },
    {
      "cell_type": "code",
      "source": [
        "# Wizualizacja modelu\n",
        "model.summary()\n",
        "plot_model(model, show_shapes=True, show_layer_names=True)# to_file='model_plot.png',"
      ],
      "metadata": {
        "id": "3HyPnzREobPT"
      },
      "execution_count": null,
      "outputs": []
    },
    {
      "cell_type": "code",
      "source": [
        "# Wyświetlanie przykładów źle sklasyfikowanych\n",
        "predictions = model.predict(x_test)\n",
        "incorrect_indices = np.nonzero(np.argmax(predictions, axis=1) != np.argmax(y_test, axis=1))[0]\n",
        "\n",
        "for i in range(5):\n",
        "    idx = incorrect_indices[i]\n",
        "    print(\"Przykład źle sklasyfikowany nr\", i+1)\n",
        "    plt.imshow(x_test[idx], cmap='gray')\n",
        "    plt.xlabel(f\"True label: {np.argmax(y_test[idx])}, Predicted label: {np.argmax(predictions[idx])}\")\n",
        "    plt.show()"
      ],
      "metadata": {
        "id": "0jKQkQZWoapq"
      },
      "execution_count": null,
      "outputs": []
    }
  ]
}